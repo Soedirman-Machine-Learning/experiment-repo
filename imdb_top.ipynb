{
  "nbformat": 4,
  "nbformat_minor": 0,
  "metadata": {
    "kernelspec": {
      "display_name": "Python 3",
      "language": "python",
      "name": "python3"
    },
    "language_info": {
      "codemirror_mode": {
        "name": "ipython",
        "version": 3
      },
      "file_extension": ".py",
      "mimetype": "text/x-python",
      "name": "python",
      "nbconvert_exporter": "python",
      "pygments_lexer": "ipython3",
      "version": "3.7.4"
    },
    "colab": {
      "name": "imdb_top.ipynb",
      "provenance": [],
      "include_colab_link": true
    }
  },
  "cells": [
    {
      "cell_type": "markdown",
      "metadata": {
        "id": "view-in-github",
        "colab_type": "text"
      },
      "source": [
        "<a href=\"https://colab.research.google.com/github/Soedirman-Machine-Learning/experiment-repo/blob/master/imdb_top.ipynb\" target=\"_parent\"><img src=\"https://colab.research.google.com/assets/colab-badge.svg\" alt=\"Open In Colab\"/></a>"
      ]
    },
    {
      "cell_type": "code",
      "metadata": {
        "id": "jSDLYPo7HzhH",
        "colab_type": "code",
        "colab": {}
      },
      "source": [
        "import bs4\n",
        "import requests\n",
        "import pandas as pd\n",
        "from pprint import pprint\n",
        "import math\n",
        "import matplotlib.pyplot as plt\n",
        "import re\n",
        "%matplotlib inline"
      ],
      "execution_count": 0,
      "outputs": []
    },
    {
      "cell_type": "code",
      "metadata": {
        "id": "dJXFxb6FHzhW",
        "colab_type": "code",
        "colab": {}
      },
      "source": [
        "url = 'https://www.imdb.com/search/title/?count=250&groups=top_1000&sort=user_rating'"
      ],
      "execution_count": 0,
      "outputs": []
    },
    {
      "cell_type": "code",
      "metadata": {
        "id": "7qkbLgtxHzhk",
        "colab_type": "code",
        "colab": {}
      },
      "source": [
        "def get_page_contents(url):\n",
        "    page = requests.get(url, headers={'Accept-Language': 'en-US'})\n",
        "    return bs4.BeautifulSoup(page.text, 'html.parser')"
      ],
      "execution_count": 0,
      "outputs": []
    },
    {
      "cell_type": "code",
      "metadata": {
        "id": "tcvbzPmaHzhr",
        "colab_type": "code",
        "colab": {}
      },
      "source": [
        "soup = get_page_contents(url)"
      ],
      "execution_count": 0,
      "outputs": []
    },
    {
      "cell_type": "code",
      "metadata": {
        "id": "8yquQ78FHzh1",
        "colab_type": "code",
        "colab": {}
      },
      "source": [
        "movies = soup.findAll('div', class_='lister-item mode-advanced')"
      ],
      "execution_count": 0,
      "outputs": []
    },
    {
      "cell_type": "code",
      "metadata": {
        "id": "9aIjzpAEHzh8",
        "colab_type": "code",
        "colab": {}
      },
      "source": [
        "scol = ['Title', 'Year', 'Run time', 'IMDB rating', 'Genre', 'Audience rating', 'Votes', 'Earnings', 'Directors', 'Actors']\n",
        "summary = pd.DataFrame(columns = scol)"
      ],
      "execution_count": 0,
      "outputs": []
    },
    {
      "cell_type": "code",
      "metadata": {
        "id": "XZ_AwrfKHziF",
        "colab_type": "code",
        "colab": {}
      },
      "source": [
        "for movie in movies:\n",
        "    content = movie.find('div', class_='lister-item-content')\n",
        "    header = content.find('h3', class_='lister-item-header')\n",
        "    title = header.find('a').text\n",
        "    year = header.find('span', class_='lister-item-year text-muted unbold').text\n",
        "    year = re.findall('\\d+', year)[0]\n",
        "    runtime = content.find('span', class_='runtime').text\n",
        "    ratingsbar = content.find('div', class_='ratings-bar')\n",
        "    imdb_rating = ratingsbar.find('div', class_='inline-block ratings-imdb-rating')['data-value']\n",
        "    genre = content.find('span', class_='genre').text.strip()\n",
        "    try:\n",
        "        audience_rating = content.find('span', class_='certificate').text\n",
        "    except:\n",
        "        audience_rating = math.nan\n",
        "    num_votes = content.findAll('span', attrs={'name':'nv'})[0]['data-value']\n",
        "    try:\n",
        "        gross_value = content.findAll('span', attrs={'name':'nv'})[1]['data-value']\n",
        "    except:\n",
        "        gross_value = math.nan\n",
        "    dirlist = []\n",
        "    actlist = []\n",
        "    crewblock = content.find('p', class_='')\n",
        "    crewtags = crewblock.findAll()\n",
        "    foundspan = False\n",
        "    for tag in crewtags:\n",
        "        if tag.name == 'a' and not foundspan:\n",
        "            dirlist.append(tag.text)\n",
        "        if tag.name == 'a' and foundspan:\n",
        "            actlist.append(tag.text)\n",
        "        if 'span' in tag.name:\n",
        "            foundspan = True\n",
        "    directors = ', '.join(dirlist)\n",
        "    actors = ', '.join(actlist)\n",
        "    \n",
        "    new_row = pd.Series([title, year, runtime, imdb_rating, genre, audience_rating, num_votes, gross_value, directors, actors], index=summary.columns)\n",
        "    summary = summary.append(new_row, ignore_index=True)"
      ],
      "execution_count": 0,
      "outputs": []
    },
    {
      "cell_type": "code",
      "metadata": {
        "id": "63cGQEaVHziL",
        "colab_type": "code",
        "colab": {},
        "outputId": "32b16c7d-07e7-4829-91c9-c66b631fe9d3"
      },
      "source": [
        "summary"
      ],
      "execution_count": 0,
      "outputs": [
        {
          "output_type": "execute_result",
          "data": {
            "text/html": [
              "<div>\n",
              "<style scoped>\n",
              "    .dataframe tbody tr th:only-of-type {\n",
              "        vertical-align: middle;\n",
              "    }\n",
              "\n",
              "    .dataframe tbody tr th {\n",
              "        vertical-align: top;\n",
              "    }\n",
              "\n",
              "    .dataframe thead th {\n",
              "        text-align: right;\n",
              "    }\n",
              "</style>\n",
              "<table border=\"1\" class=\"dataframe\">\n",
              "  <thead>\n",
              "    <tr style=\"text-align: right;\">\n",
              "      <th></th>\n",
              "      <th>Title</th>\n",
              "      <th>Year</th>\n",
              "      <th>Run time</th>\n",
              "      <th>IMDB rating</th>\n",
              "      <th>Genre</th>\n",
              "      <th>Audience rating</th>\n",
              "      <th>Votes</th>\n",
              "      <th>Earnings</th>\n",
              "      <th>Directors</th>\n",
              "      <th>Actors</th>\n",
              "    </tr>\n",
              "  </thead>\n",
              "  <tbody>\n",
              "    <tr>\n",
              "      <th>0</th>\n",
              "      <td>The Shawshank Redemption</td>\n",
              "      <td>1994</td>\n",
              "      <td>142 min</td>\n",
              "      <td>9.3</td>\n",
              "      <td>Drama</td>\n",
              "      <td>R</td>\n",
              "      <td>2171762</td>\n",
              "      <td>28,341,469</td>\n",
              "      <td>Frank Darabont</td>\n",
              "      <td>Tim Robbins, Morgan Freeman, Bob Gunton, Willi...</td>\n",
              "    </tr>\n",
              "    <tr>\n",
              "      <th>1</th>\n",
              "      <td>The Godfather</td>\n",
              "      <td>1972</td>\n",
              "      <td>175 min</td>\n",
              "      <td>9.2</td>\n",
              "      <td>Crime, Drama</td>\n",
              "      <td>R</td>\n",
              "      <td>1496082</td>\n",
              "      <td>134,966,411</td>\n",
              "      <td>Francis Ford Coppola</td>\n",
              "      <td>Marlon Brando, Al Pacino, James Caan, Diane Ke...</td>\n",
              "    </tr>\n",
              "    <tr>\n",
              "      <th>2</th>\n",
              "      <td>The Dark Knight</td>\n",
              "      <td>2008</td>\n",
              "      <td>152 min</td>\n",
              "      <td>9</td>\n",
              "      <td>Action, Crime, Drama</td>\n",
              "      <td>PG-13</td>\n",
              "      <td>2155933</td>\n",
              "      <td>534,858,444</td>\n",
              "      <td>Christopher Nolan</td>\n",
              "      <td>Christian Bale, Heath Ledger, Aaron Eckhart, M...</td>\n",
              "    </tr>\n",
              "    <tr>\n",
              "      <th>3</th>\n",
              "      <td>The Godfather: Part II</td>\n",
              "      <td>1974</td>\n",
              "      <td>202 min</td>\n",
              "      <td>9</td>\n",
              "      <td>Crime, Drama</td>\n",
              "      <td>R</td>\n",
              "      <td>1047359</td>\n",
              "      <td>57,300,000</td>\n",
              "      <td>Francis Ford Coppola</td>\n",
              "      <td>Al Pacino, Robert De Niro, Robert Duvall, Dian...</td>\n",
              "    </tr>\n",
              "    <tr>\n",
              "      <th>4</th>\n",
              "      <td>The Lord of the Rings: The Return of the King</td>\n",
              "      <td>2003</td>\n",
              "      <td>201 min</td>\n",
              "      <td>8.9</td>\n",
              "      <td>Adventure, Drama, Fantasy</td>\n",
              "      <td>PG-13</td>\n",
              "      <td>1545165</td>\n",
              "      <td>377,845,905</td>\n",
              "      <td>Peter Jackson</td>\n",
              "      <td>Elijah Wood, Viggo Mortensen, Ian McKellen, Or...</td>\n",
              "    </tr>\n",
              "    <tr>\n",
              "      <th>...</th>\n",
              "      <td>...</td>\n",
              "      <td>...</td>\n",
              "      <td>...</td>\n",
              "      <td>...</td>\n",
              "      <td>...</td>\n",
              "      <td>...</td>\n",
              "      <td>...</td>\n",
              "      <td>...</td>\n",
              "      <td>...</td>\n",
              "      <td>...</td>\n",
              "    </tr>\n",
              "    <tr>\n",
              "      <th>245</th>\n",
              "      <td>The Legend of 1900</td>\n",
              "      <td>1998</td>\n",
              "      <td>169 min</td>\n",
              "      <td>8.1</td>\n",
              "      <td>Drama, Music, Romance</td>\n",
              "      <td>R</td>\n",
              "      <td>54869</td>\n",
              "      <td>259,127</td>\n",
              "      <td>Giuseppe Tornatore</td>\n",
              "      <td>Tim Roth, Pruitt Taylor Vince, Mélanie Thierry...</td>\n",
              "    </tr>\n",
              "    <tr>\n",
              "      <th>246</th>\n",
              "      <td>The Truman Show</td>\n",
              "      <td>1998</td>\n",
              "      <td>103 min</td>\n",
              "      <td>8.1</td>\n",
              "      <td>Comedy, Drama, Sci-Fi</td>\n",
              "      <td>PG</td>\n",
              "      <td>866232</td>\n",
              "      <td>125,618,201</td>\n",
              "      <td>Peter Weir</td>\n",
              "      <td>Jim Carrey, Ed Harris, Laura Linney, Noah Emme...</td>\n",
              "    </tr>\n",
              "    <tr>\n",
              "      <th>247</th>\n",
              "      <td>Black Cat, White Cat</td>\n",
              "      <td>1998</td>\n",
              "      <td>127 min</td>\n",
              "      <td>8.1</td>\n",
              "      <td>Comedy, Crime, Romance</td>\n",
              "      <td>R</td>\n",
              "      <td>48109</td>\n",
              "      <td>348,660</td>\n",
              "      <td>Emir Kusturica</td>\n",
              "      <td>Bajram Severdzan, Srdjan 'Zika' Todorovic, Bra...</td>\n",
              "    </tr>\n",
              "    <tr>\n",
              "      <th>248</th>\n",
              "      <td>The Big Lebowski</td>\n",
              "      <td>1998</td>\n",
              "      <td>117 min</td>\n",
              "      <td>8.1</td>\n",
              "      <td>Comedy, Crime, Sport</td>\n",
              "      <td>R</td>\n",
              "      <td>682845</td>\n",
              "      <td>17,498,804</td>\n",
              "      <td>Joel Coen, Ethan Coen</td>\n",
              "      <td>Jeff Bridges, John Goodman, Julianne Moore, St...</td>\n",
              "    </tr>\n",
              "    <tr>\n",
              "      <th>249</th>\n",
              "      <td>In the Mood for Love</td>\n",
              "      <td>2000</td>\n",
              "      <td>98 min</td>\n",
              "      <td>8.1</td>\n",
              "      <td>Drama, Romance</td>\n",
              "      <td>PG</td>\n",
              "      <td>110702</td>\n",
              "      <td>2,734,044</td>\n",
              "      <td>Kar-Wai Wong</td>\n",
              "      <td>Tony Chiu-Wai Leung, Maggie Cheung, Ping Lam S...</td>\n",
              "    </tr>\n",
              "  </tbody>\n",
              "</table>\n",
              "<p>250 rows × 10 columns</p>\n",
              "</div>"
            ],
            "text/plain": [
              "                                             Title  Year Run time IMDB rating  \\\n",
              "0                         The Shawshank Redemption  1994  142 min         9.3   \n",
              "1                                    The Godfather  1972  175 min         9.2   \n",
              "2                                  The Dark Knight  2008  152 min           9   \n",
              "3                           The Godfather: Part II  1974  202 min           9   \n",
              "4    The Lord of the Rings: The Return of the King  2003  201 min         8.9   \n",
              "..                                             ...   ...      ...         ...   \n",
              "245                             The Legend of 1900  1998  169 min         8.1   \n",
              "246                                The Truman Show  1998  103 min         8.1   \n",
              "247                           Black Cat, White Cat  1998  127 min         8.1   \n",
              "248                               The Big Lebowski  1998  117 min         8.1   \n",
              "249                           In the Mood for Love  2000   98 min         8.1   \n",
              "\n",
              "                         Genre Audience rating    Votes     Earnings  \\\n",
              "0                        Drama               R  2171762   28,341,469   \n",
              "1                 Crime, Drama               R  1496082  134,966,411   \n",
              "2         Action, Crime, Drama           PG-13  2155933  534,858,444   \n",
              "3                 Crime, Drama               R  1047359   57,300,000   \n",
              "4    Adventure, Drama, Fantasy           PG-13  1545165  377,845,905   \n",
              "..                         ...             ...      ...          ...   \n",
              "245      Drama, Music, Romance               R    54869      259,127   \n",
              "246      Comedy, Drama, Sci-Fi              PG   866232  125,618,201   \n",
              "247     Comedy, Crime, Romance               R    48109      348,660   \n",
              "248       Comedy, Crime, Sport               R   682845   17,498,804   \n",
              "249             Drama, Romance              PG   110702    2,734,044   \n",
              "\n",
              "                 Directors                                             Actors  \n",
              "0           Frank Darabont  Tim Robbins, Morgan Freeman, Bob Gunton, Willi...  \n",
              "1     Francis Ford Coppola  Marlon Brando, Al Pacino, James Caan, Diane Ke...  \n",
              "2        Christopher Nolan  Christian Bale, Heath Ledger, Aaron Eckhart, M...  \n",
              "3     Francis Ford Coppola  Al Pacino, Robert De Niro, Robert Duvall, Dian...  \n",
              "4            Peter Jackson  Elijah Wood, Viggo Mortensen, Ian McKellen, Or...  \n",
              "..                     ...                                                ...  \n",
              "245     Giuseppe Tornatore  Tim Roth, Pruitt Taylor Vince, Mélanie Thierry...  \n",
              "246             Peter Weir  Jim Carrey, Ed Harris, Laura Linney, Noah Emme...  \n",
              "247         Emir Kusturica  Bajram Severdzan, Srdjan 'Zika' Todorovic, Bra...  \n",
              "248  Joel Coen, Ethan Coen  Jeff Bridges, John Goodman, Julianne Moore, St...  \n",
              "249           Kar-Wai Wong  Tony Chiu-Wai Leung, Maggie Cheung, Ping Lam S...  \n",
              "\n",
              "[250 rows x 10 columns]"
            ]
          },
          "metadata": {
            "tags": []
          },
          "execution_count": 8
        }
      ]
    },
    {
      "cell_type": "code",
      "metadata": {
        "id": "tQqiDTUGHziU",
        "colab_type": "code",
        "colab": {}
      },
      "source": [
        "summary.to_csv('imdb_top.csv')"
      ],
      "execution_count": 0,
      "outputs": []
    },
    {
      "cell_type": "code",
      "metadata": {
        "id": "u3fsQwLmHzib",
        "colab_type": "code",
        "colab": {}
      },
      "source": [
        "yrate = summary[['Year', 'IMDB rating']].dropna().astype('float')"
      ],
      "execution_count": 0,
      "outputs": []
    },
    {
      "cell_type": "code",
      "metadata": {
        "id": "WtWxoMe4Hzik",
        "colab_type": "code",
        "colab": {},
        "outputId": "c39f7968-5e5c-441e-9f89-ed34ddecece1"
      },
      "source": [
        "rtrate = summary[['Run time', 'IMDB rating']]\n",
        "rtrate['Run time'] = rtrate['Run time'].apply(lambda x: re.findall('\\d+', x)[0])\n",
        "rtrate = rtrate.dropna().astype('float')"
      ],
      "execution_count": 0,
      "outputs": [
        {
          "output_type": "stream",
          "text": [
            "C:\\Users\\flori\\AppData\\Roaming\\Python\\Python37\\site-packages\\ipykernel_launcher.py:2: SettingWithCopyWarning: \n",
            "A value is trying to be set on a copy of a slice from a DataFrame.\n",
            "Try using .loc[row_indexer,col_indexer] = value instead\n",
            "\n",
            "See the caveats in the documentation: http://pandas.pydata.org/pandas-docs/stable/user_guide/indexing.html#returning-a-view-versus-a-copy\n",
            "  \n"
          ],
          "name": "stderr"
        }
      ]
    },
    {
      "cell_type": "code",
      "metadata": {
        "id": "ADcEYvGpHzir",
        "colab_type": "code",
        "colab": {}
      },
      "source": [
        "monrate = summary[['Earnings', 'IMDB rating']].dropna()\n",
        "monrate['Earnings'] = monrate['Earnings'].apply(lambda x: re.findall('\\d+', x)[0])\n",
        "monrate = monrate.astype('float')"
      ],
      "execution_count": 0,
      "outputs": []
    },
    {
      "cell_type": "code",
      "metadata": {
        "id": "wHUn8E92Hziw",
        "colab_type": "code",
        "colab": {}
      },
      "source": [
        "votrate = summary[['Votes', 'IMDB rating']].dropna()\n",
        "votrate['Votes'] = votrate['Votes'].apply(lambda x: re.findall('\\d+', x)[0])\n",
        "votrate = votrate.astype('float')"
      ],
      "execution_count": 0,
      "outputs": []
    },
    {
      "cell_type": "code",
      "metadata": {
        "id": "gflqLR0sHzi1",
        "colab_type": "code",
        "colab": {},
        "outputId": "5585c97c-a909-4a4d-f9ad-2b62ccc7ed69"
      },
      "source": [
        "fig, ((ax1, ax2), (ax3, ax4)) = plt.subplots(2, 2, figsize=(16,9))\n",
        "plt.rcParams.update({'font.size': 12})\n",
        "fig.suptitle('ratings of IMDB top 250 movies\\nbroken down by year, runtime, earnings, and votes')\n",
        "\n",
        "ax1.scatter(yrate['Year'], yrate['IMDB rating'])\n",
        "ax1.set_title('year')\n",
        "ax2.scatter(rtrate['Run time'], rtrate['IMDB rating'])\n",
        "ax2.set_title('runtime (min)')\n",
        "ax3.scatter(monrate['Earnings'], monrate['IMDB rating'])\n",
        "ax3.set_title('earnings (mil $)')\n",
        "ax4.scatter(votrate['Votes'] / 10**6, votrate['IMDB rating'])\n",
        "ax4.set_title('milions of IMDB votes')\n",
        "\n",
        "plt.show()"
      ],
      "execution_count": 0,
      "outputs": [
        {
          "output_type": "display_data",
          "data": {
            "image/png": "[encoded data removed]",
            "text/plain": [
              "<Figure size 1152x648 with 4 Axes>"
            ]
          },
          "metadata": {
            "tags": [],
            "needs_background": "light"
          }
        }
      ]
    },
    {
      "cell_type": "code",
      "metadata": {
        "id": "qsUhfK9cHzi7",
        "colab_type": "code",
        "colab": {}
      },
      "source": [
        ""
      ],
      "execution_count": 0,
      "outputs": []
    }
  ]
}